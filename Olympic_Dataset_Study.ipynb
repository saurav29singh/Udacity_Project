{
 "cells": [
  {
   "cell_type": "code",
   "execution_count": 8,
   "outputs": [
    {
     "data": {
      "text/plain": "   Year    City     Sport Discipline             Athlete Country Gender  \\\n0  1896  Athens  Aquatics   Swimming       HAJOS, Alfred     HUN    Men   \n1  1896  Athens  Aquatics   Swimming    HERSCHMANN, Otto     AUT    Men   \n2  1896  Athens  Aquatics   Swimming   DRIVAS, Dimitrios     GRE    Men   \n3  1896  Athens  Aquatics   Swimming  MALOKINIS, Ioannis     GRE    Men   \n4  1896  Athens  Aquatics   Swimming  CHASAPIS, Spiridon     GRE    Men   \n\n                        Event   Medal  \n0              100M Freestyle    Gold  \n1              100M Freestyle  Silver  \n2  100M Freestyle For Sailors  Bronze  \n3  100M Freestyle For Sailors    Gold  \n4  100M Freestyle For Sailors  Silver  ",
      "text/html": "<div>\n<style scoped>\n    .dataframe tbody tr th:only-of-type {\n        vertical-align: middle;\n    }\n\n    .dataframe tbody tr th {\n        vertical-align: top;\n    }\n\n    .dataframe thead th {\n        text-align: right;\n    }\n</style>\n<table border=\"1\" class=\"dataframe\">\n  <thead>\n    <tr style=\"text-align: right;\">\n      <th></th>\n      <th>Year</th>\n      <th>City</th>\n      <th>Sport</th>\n      <th>Discipline</th>\n      <th>Athlete</th>\n      <th>Country</th>\n      <th>Gender</th>\n      <th>Event</th>\n      <th>Medal</th>\n    </tr>\n  </thead>\n  <tbody>\n    <tr>\n      <th>0</th>\n      <td>1896</td>\n      <td>Athens</td>\n      <td>Aquatics</td>\n      <td>Swimming</td>\n      <td>HAJOS, Alfred</td>\n      <td>HUN</td>\n      <td>Men</td>\n      <td>100M Freestyle</td>\n      <td>Gold</td>\n    </tr>\n    <tr>\n      <th>1</th>\n      <td>1896</td>\n      <td>Athens</td>\n      <td>Aquatics</td>\n      <td>Swimming</td>\n      <td>HERSCHMANN, Otto</td>\n      <td>AUT</td>\n      <td>Men</td>\n      <td>100M Freestyle</td>\n      <td>Silver</td>\n    </tr>\n    <tr>\n      <th>2</th>\n      <td>1896</td>\n      <td>Athens</td>\n      <td>Aquatics</td>\n      <td>Swimming</td>\n      <td>DRIVAS, Dimitrios</td>\n      <td>GRE</td>\n      <td>Men</td>\n      <td>100M Freestyle For Sailors</td>\n      <td>Bronze</td>\n    </tr>\n    <tr>\n      <th>3</th>\n      <td>1896</td>\n      <td>Athens</td>\n      <td>Aquatics</td>\n      <td>Swimming</td>\n      <td>MALOKINIS, Ioannis</td>\n      <td>GRE</td>\n      <td>Men</td>\n      <td>100M Freestyle For Sailors</td>\n      <td>Gold</td>\n    </tr>\n    <tr>\n      <th>4</th>\n      <td>1896</td>\n      <td>Athens</td>\n      <td>Aquatics</td>\n      <td>Swimming</td>\n      <td>CHASAPIS, Spiridon</td>\n      <td>GRE</td>\n      <td>Men</td>\n      <td>100M Freestyle For Sailors</td>\n      <td>Silver</td>\n    </tr>\n  </tbody>\n</table>\n</div>"
     },
     "execution_count": 8,
     "metadata": {},
     "output_type": "execute_result"
    }
   ],
   "source": [
    "import pandas as pd\n",
    "#To read a dataset, we will use read_csv.\n",
    "df = pd.read_csv (r'Summer_Olympic.csv')\n",
    "df.head(25)"
   ],
   "metadata": {
    "collapsed": false,
    "pycharm": {
     "name": "#%%\n"
    }
   }
  },
  {
   "cell_type": "code",
   "execution_count": 9,
   "outputs": [
    {
     "data": {
      "text/plain": "   Year    City     Sport Discipline                Athlete Country Gender  \\\n0  1896  Athens  Aquatics   Swimming          HAJOS, Alfred     HUN    Men   \n1  1896  Athens  Aquatics   Swimming       HERSCHMANN, Otto     AUT    Men   \n2  1896  Athens  Aquatics   Swimming      DRIVAS, Dimitrios     GRE    Men   \n3  1896  Athens  Aquatics   Swimming     MALOKINIS, Ioannis     GRE    Men   \n4  1896  Athens  Aquatics   Swimming     CHASAPIS, Spiridon     GRE    Men   \n5  1896  Athens  Aquatics   Swimming  CHOROPHAS, Efstathios     GRE    Men   \n6  1896  Athens  Aquatics   Swimming          HAJOS, Alfred     HUN    Men   \n7  1896  Athens  Aquatics   Swimming       ANDREOU, Joannis     GRE    Men   \n8  1896  Athens  Aquatics   Swimming  CHOROPHAS, Efstathios     GRE    Men   \n9  1896  Athens  Aquatics   Swimming          NEUMANN, Paul     AUT    Men   \n\n                        Event   Medal  \n0              100M Freestyle    Gold  \n1              100M Freestyle  Silver  \n2  100M Freestyle For Sailors  Bronze  \n3  100M Freestyle For Sailors    Gold  \n4  100M Freestyle For Sailors  Silver  \n5             1200M Freestyle  Bronze  \n6             1200M Freestyle    Gold  \n7             1200M Freestyle  Silver  \n8              400M Freestyle  Bronze  \n9              400M Freestyle    Gold  ",
      "text/html": "<div>\n<style scoped>\n    .dataframe tbody tr th:only-of-type {\n        vertical-align: middle;\n    }\n\n    .dataframe tbody tr th {\n        vertical-align: top;\n    }\n\n    .dataframe thead th {\n        text-align: right;\n    }\n</style>\n<table border=\"1\" class=\"dataframe\">\n  <thead>\n    <tr style=\"text-align: right;\">\n      <th></th>\n      <th>Year</th>\n      <th>City</th>\n      <th>Sport</th>\n      <th>Discipline</th>\n      <th>Athlete</th>\n      <th>Country</th>\n      <th>Gender</th>\n      <th>Event</th>\n      <th>Medal</th>\n    </tr>\n  </thead>\n  <tbody>\n    <tr>\n      <th>0</th>\n      <td>1896</td>\n      <td>Athens</td>\n      <td>Aquatics</td>\n      <td>Swimming</td>\n      <td>HAJOS, Alfred</td>\n      <td>HUN</td>\n      <td>Men</td>\n      <td>100M Freestyle</td>\n      <td>Gold</td>\n    </tr>\n    <tr>\n      <th>1</th>\n      <td>1896</td>\n      <td>Athens</td>\n      <td>Aquatics</td>\n      <td>Swimming</td>\n      <td>HERSCHMANN, Otto</td>\n      <td>AUT</td>\n      <td>Men</td>\n      <td>100M Freestyle</td>\n      <td>Silver</td>\n    </tr>\n    <tr>\n      <th>2</th>\n      <td>1896</td>\n      <td>Athens</td>\n      <td>Aquatics</td>\n      <td>Swimming</td>\n      <td>DRIVAS, Dimitrios</td>\n      <td>GRE</td>\n      <td>Men</td>\n      <td>100M Freestyle For Sailors</td>\n      <td>Bronze</td>\n    </tr>\n    <tr>\n      <th>3</th>\n      <td>1896</td>\n      <td>Athens</td>\n      <td>Aquatics</td>\n      <td>Swimming</td>\n      <td>MALOKINIS, Ioannis</td>\n      <td>GRE</td>\n      <td>Men</td>\n      <td>100M Freestyle For Sailors</td>\n      <td>Gold</td>\n    </tr>\n    <tr>\n      <th>4</th>\n      <td>1896</td>\n      <td>Athens</td>\n      <td>Aquatics</td>\n      <td>Swimming</td>\n      <td>CHASAPIS, Spiridon</td>\n      <td>GRE</td>\n      <td>Men</td>\n      <td>100M Freestyle For Sailors</td>\n      <td>Silver</td>\n    </tr>\n    <tr>\n      <th>5</th>\n      <td>1896</td>\n      <td>Athens</td>\n      <td>Aquatics</td>\n      <td>Swimming</td>\n      <td>CHOROPHAS, Efstathios</td>\n      <td>GRE</td>\n      <td>Men</td>\n      <td>1200M Freestyle</td>\n      <td>Bronze</td>\n    </tr>\n    <tr>\n      <th>6</th>\n      <td>1896</td>\n      <td>Athens</td>\n      <td>Aquatics</td>\n      <td>Swimming</td>\n      <td>HAJOS, Alfred</td>\n      <td>HUN</td>\n      <td>Men</td>\n      <td>1200M Freestyle</td>\n      <td>Gold</td>\n    </tr>\n    <tr>\n      <th>7</th>\n      <td>1896</td>\n      <td>Athens</td>\n      <td>Aquatics</td>\n      <td>Swimming</td>\n      <td>ANDREOU, Joannis</td>\n      <td>GRE</td>\n      <td>Men</td>\n      <td>1200M Freestyle</td>\n      <td>Silver</td>\n    </tr>\n    <tr>\n      <th>8</th>\n      <td>1896</td>\n      <td>Athens</td>\n      <td>Aquatics</td>\n      <td>Swimming</td>\n      <td>CHOROPHAS, Efstathios</td>\n      <td>GRE</td>\n      <td>Men</td>\n      <td>400M Freestyle</td>\n      <td>Bronze</td>\n    </tr>\n    <tr>\n      <th>9</th>\n      <td>1896</td>\n      <td>Athens</td>\n      <td>Aquatics</td>\n      <td>Swimming</td>\n      <td>NEUMANN, Paul</td>\n      <td>AUT</td>\n      <td>Men</td>\n      <td>400M Freestyle</td>\n      <td>Gold</td>\n    </tr>\n  </tbody>\n</table>\n</div>"
     },
     "execution_count": 9,
     "metadata": {},
     "output_type": "execute_result"
    }
   ],
   "source": [
    "#to fetch top 10 line from csv file\n",
    "df.head(10)"
   ],
   "metadata": {
    "collapsed": false,
    "pycharm": {
     "name": "#%%\n"
    }
   }
  },
  {
   "cell_type": "code",
   "execution_count": 10,
   "outputs": [
    {
     "data": {
      "text/plain": "       Year    City      Sport           Discipline  \\\n31155  2012  London  Wrestling  Wrestling Freestyle   \n31156  2012  London  Wrestling  Wrestling Freestyle   \n31157  2012  London  Wrestling  Wrestling Freestyle   \n31158  2012  London  Wrestling  Wrestling Freestyle   \n31159  2012  London  Wrestling  Wrestling Freestyle   \n31160  2012  London  Wrestling  Wrestling Freestyle   \n31161  2012  London  Wrestling  Wrestling Freestyle   \n31162  2012  London  Wrestling  Wrestling Freestyle   \n31163  2012  London  Wrestling  Wrestling Freestyle   \n31164  2012  London  Wrestling  Wrestling Freestyle   \n\n                            Athlete Country Gender     Event   Medal  \n31155                 AHMADOV, Emin     AZE    Men  Wg 74 KG  Bronze  \n31156          KAZAKEVIC, Aleksandr     LTU    Men  Wg 74 KG  Bronze  \n31157                 KHUGAEV, Alan     RUS    Men  Wg 84 KG    Gold  \n31158  EBRAHIM, Karam Mohamed Gaber     EGY    Men  Wg 84 KG  Silver  \n31159               GAJIYEV, Danyal     KAZ    Men  Wg 84 KG  Bronze  \n31160            JANIKOWSKI, Damian     POL    Men  Wg 84 KG  Bronze  \n31161     REZAEI, Ghasem Gholamreza     IRI    Men  Wg 96 KG    Gold  \n31162                TOTROV, Rustam     RUS    Men  Wg 96 KG  Silver  \n31163             ALEKSANYAN, Artur     ARM    Men  Wg 96 KG  Bronze  \n31164                LIDBERG, Jimmy     SWE    Men  Wg 96 KG  Bronze  ",
      "text/html": "<div>\n<style scoped>\n    .dataframe tbody tr th:only-of-type {\n        vertical-align: middle;\n    }\n\n    .dataframe tbody tr th {\n        vertical-align: top;\n    }\n\n    .dataframe thead th {\n        text-align: right;\n    }\n</style>\n<table border=\"1\" class=\"dataframe\">\n  <thead>\n    <tr style=\"text-align: right;\">\n      <th></th>\n      <th>Year</th>\n      <th>City</th>\n      <th>Sport</th>\n      <th>Discipline</th>\n      <th>Athlete</th>\n      <th>Country</th>\n      <th>Gender</th>\n      <th>Event</th>\n      <th>Medal</th>\n    </tr>\n  </thead>\n  <tbody>\n    <tr>\n      <th>31155</th>\n      <td>2012</td>\n      <td>London</td>\n      <td>Wrestling</td>\n      <td>Wrestling Freestyle</td>\n      <td>AHMADOV, Emin</td>\n      <td>AZE</td>\n      <td>Men</td>\n      <td>Wg 74 KG</td>\n      <td>Bronze</td>\n    </tr>\n    <tr>\n      <th>31156</th>\n      <td>2012</td>\n      <td>London</td>\n      <td>Wrestling</td>\n      <td>Wrestling Freestyle</td>\n      <td>KAZAKEVIC, Aleksandr</td>\n      <td>LTU</td>\n      <td>Men</td>\n      <td>Wg 74 KG</td>\n      <td>Bronze</td>\n    </tr>\n    <tr>\n      <th>31157</th>\n      <td>2012</td>\n      <td>London</td>\n      <td>Wrestling</td>\n      <td>Wrestling Freestyle</td>\n      <td>KHUGAEV, Alan</td>\n      <td>RUS</td>\n      <td>Men</td>\n      <td>Wg 84 KG</td>\n      <td>Gold</td>\n    </tr>\n    <tr>\n      <th>31158</th>\n      <td>2012</td>\n      <td>London</td>\n      <td>Wrestling</td>\n      <td>Wrestling Freestyle</td>\n      <td>EBRAHIM, Karam Mohamed Gaber</td>\n      <td>EGY</td>\n      <td>Men</td>\n      <td>Wg 84 KG</td>\n      <td>Silver</td>\n    </tr>\n    <tr>\n      <th>31159</th>\n      <td>2012</td>\n      <td>London</td>\n      <td>Wrestling</td>\n      <td>Wrestling Freestyle</td>\n      <td>GAJIYEV, Danyal</td>\n      <td>KAZ</td>\n      <td>Men</td>\n      <td>Wg 84 KG</td>\n      <td>Bronze</td>\n    </tr>\n    <tr>\n      <th>31160</th>\n      <td>2012</td>\n      <td>London</td>\n      <td>Wrestling</td>\n      <td>Wrestling Freestyle</td>\n      <td>JANIKOWSKI, Damian</td>\n      <td>POL</td>\n      <td>Men</td>\n      <td>Wg 84 KG</td>\n      <td>Bronze</td>\n    </tr>\n    <tr>\n      <th>31161</th>\n      <td>2012</td>\n      <td>London</td>\n      <td>Wrestling</td>\n      <td>Wrestling Freestyle</td>\n      <td>REZAEI, Ghasem Gholamreza</td>\n      <td>IRI</td>\n      <td>Men</td>\n      <td>Wg 96 KG</td>\n      <td>Gold</td>\n    </tr>\n    <tr>\n      <th>31162</th>\n      <td>2012</td>\n      <td>London</td>\n      <td>Wrestling</td>\n      <td>Wrestling Freestyle</td>\n      <td>TOTROV, Rustam</td>\n      <td>RUS</td>\n      <td>Men</td>\n      <td>Wg 96 KG</td>\n      <td>Silver</td>\n    </tr>\n    <tr>\n      <th>31163</th>\n      <td>2012</td>\n      <td>London</td>\n      <td>Wrestling</td>\n      <td>Wrestling Freestyle</td>\n      <td>ALEKSANYAN, Artur</td>\n      <td>ARM</td>\n      <td>Men</td>\n      <td>Wg 96 KG</td>\n      <td>Bronze</td>\n    </tr>\n    <tr>\n      <th>31164</th>\n      <td>2012</td>\n      <td>London</td>\n      <td>Wrestling</td>\n      <td>Wrestling Freestyle</td>\n      <td>LIDBERG, Jimmy</td>\n      <td>SWE</td>\n      <td>Men</td>\n      <td>Wg 96 KG</td>\n      <td>Bronze</td>\n    </tr>\n  </tbody>\n</table>\n</div>"
     },
     "execution_count": 10,
     "metadata": {},
     "output_type": "execute_result"
    }
   ],
   "source": [
    "#to fetch last 10 line from csv file\n",
    "df.tail(10)"
   ],
   "metadata": {
    "collapsed": false,
    "pycharm": {
     "name": "#%%\n"
    }
   }
  },
  {
   "cell_type": "code",
   "execution_count": 11,
   "outputs": [
    {
     "data": {
      "text/plain": "   Year    City     Sport Country\n0  1896  Athens  Aquatics     HUN\n1  1896  Athens  Aquatics     AUT\n2  1896  Athens  Aquatics     GRE\n3  1896  Athens  Aquatics     GRE\n4  1896  Athens  Aquatics     GRE",
      "text/html": "<div>\n<style scoped>\n    .dataframe tbody tr th:only-of-type {\n        vertical-align: middle;\n    }\n\n    .dataframe tbody tr th {\n        vertical-align: top;\n    }\n\n    .dataframe thead th {\n        text-align: right;\n    }\n</style>\n<table border=\"1\" class=\"dataframe\">\n  <thead>\n    <tr style=\"text-align: right;\">\n      <th></th>\n      <th>Year</th>\n      <th>City</th>\n      <th>Sport</th>\n      <th>Country</th>\n    </tr>\n  </thead>\n  <tbody>\n    <tr>\n      <th>0</th>\n      <td>1896</td>\n      <td>Athens</td>\n      <td>Aquatics</td>\n      <td>HUN</td>\n    </tr>\n    <tr>\n      <th>1</th>\n      <td>1896</td>\n      <td>Athens</td>\n      <td>Aquatics</td>\n      <td>AUT</td>\n    </tr>\n    <tr>\n      <th>2</th>\n      <td>1896</td>\n      <td>Athens</td>\n      <td>Aquatics</td>\n      <td>GRE</td>\n    </tr>\n    <tr>\n      <th>3</th>\n      <td>1896</td>\n      <td>Athens</td>\n      <td>Aquatics</td>\n      <td>GRE</td>\n    </tr>\n    <tr>\n      <th>4</th>\n      <td>1896</td>\n      <td>Athens</td>\n      <td>Aquatics</td>\n      <td>GRE</td>\n    </tr>\n  </tbody>\n</table>\n</div>"
     },
     "execution_count": 11,
     "metadata": {},
     "output_type": "execute_result"
    }
   ],
   "source": [
    "#to fetch specific columns\n",
    "df = pd.read_csv(\"Summer_Olympic.csv\", usecols= ['Year', 'City', 'Sport', 'Country'])\n",
    "df.head()"
   ],
   "metadata": {
    "collapsed": false,
    "pycharm": {
     "name": "#%%\n"
    }
   }
  },
  {
   "cell_type": "code",
   "execution_count": 16,
   "outputs": [
    {
     "name": "stdout",
     "output_type": "stream",
     "text": [
      "Number of Rows:  31165\n",
      "Number of Columns:  4\n"
     ]
    }
   ],
   "source": [
    "# compute number of rows\n",
    "Total_rows = len(df.axes[0])\n",
    "#computing number of columns\n",
    "Total_columns = len(df.axes[1])\n",
    "print(\"Number of Rows: \", Total_rows)\n",
    "print(\"Number of Columns: \", Total_columns)"
   ],
   "metadata": {
    "collapsed": false,
    "pycharm": {
     "name": "#%%\n"
    }
   }
  },
  {
   "cell_type": "code",
   "execution_count": null,
   "outputs": [],
   "source": [],
   "metadata": {
    "collapsed": false,
    "pycharm": {
     "name": "#%%\n"
    }
   }
  }
 ],
 "metadata": {
  "kernelspec": {
   "display_name": "Python 3",
   "language": "python",
   "name": "python3"
  },
  "language_info": {
   "codemirror_mode": {
    "name": "ipython",
    "version": 2
   },
   "file_extension": ".py",
   "mimetype": "text/x-python",
   "name": "python",
   "nbconvert_exporter": "python",
   "pygments_lexer": "ipython2",
   "version": "2.7.6"
  }
 },
 "nbformat": 4,
 "nbformat_minor": 0
}